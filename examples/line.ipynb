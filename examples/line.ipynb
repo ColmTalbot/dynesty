{
 "metadata": {
  "name": "",
  "signature": "sha256:6095f23fa8b7a1dceb7893dac6078ba9a18dcb28c5b84d97e9bec1379a8de699"
 },
 "nbformat": 3,
 "nbformat_minor": 0,
 "worksheets": [
  {
   "cells": [
    {
     "cell_type": "markdown",
     "metadata": {},
     "source": [
      "#Nested Sampling example"
     ]
    },
    {
     "cell_type": "code",
     "collapsed": false,
     "input": [
      "import numpy as np\n",
      "import matplotlib.pyplot as plt\n",
      "%matplotlib inline"
     ],
     "language": "python",
     "metadata": {},
     "outputs": [],
     "prompt_number": 119
    },
    {
     "cell_type": "markdown",
     "metadata": {},
     "source": [
      "#A simple model: a straight line"
     ]
    },
    {
     "cell_type": "code",
     "collapsed": false,
     "input": [
      "def model(theta, x):\n",
      "    m, c = theta\n",
      "    return m*x + c"
     ],
     "language": "python",
     "metadata": {},
     "outputs": [],
     "prompt_number": 120
    },
    {
     "cell_type": "markdown",
     "metadata": {},
     "source": [
      "Generate some data..."
     ]
    },
    {
     "cell_type": "code",
     "collapsed": false,
     "input": [
      "theta_true = [.5, 10.]\n",
      "N = 50\n",
      "x = np.sort(10*np.random.rand(N))\n",
      "y = model(theta_true, x) \n",
      "yerr = 0.1+0.5*np.random.rand(N)\n",
      "y += yerr * np.random.randn(N)\n",
      "plt.errorbar(x, y, yerr=yerr, capsize=0, fmt='k.', ecolor='.7')"
     ],
     "language": "python",
     "metadata": {},
     "outputs": [
      {
       "metadata": {},
       "output_type": "pyout",
       "prompt_number": 121,
       "text": [
        "<Container object of 3 artists>"
       ]
      },
      {
       "metadata": {},
       "output_type": "display_data",
       "png": "[encoded data removed]",
       "text": [
        "<matplotlib.figure.Figure at 0x10ac5e950>"
       ]
      }
     ],
     "prompt_number": 121
    },
    {
     "cell_type": "markdown",
     "metadata": {},
     "source": [
      "The likelihood function:"
     ]
    },
    {
     "cell_type": "code",
     "collapsed": false,
     "input": [
      "def lnlike(theta):\n",
      "    return -0.5*(np.sum((y-model(theta, x))**2/yerr**2))"
     ],
     "language": "python",
     "metadata": {},
     "outputs": [],
     "prompt_number": 122
    },
    {
     "cell_type": "markdown",
     "metadata": {},
     "source": [
      "Flat prior"
     ]
    },
    {
     "cell_type": "code",
     "collapsed": false,
     "input": [
      "def lnprior(theta):\n",
      "    m, c = theta\n",
      "    if 0. < m < 1. and 0. < c < 100.:\n",
      "        return 0.\n",
      "    return -np.inf"
     ],
     "language": "python",
     "metadata": {},
     "outputs": [],
     "prompt_number": 123
    },
    {
     "cell_type": "markdown",
     "metadata": {},
     "source": [
      "The posterior:"
     ]
    },
    {
     "cell_type": "code",
     "collapsed": false,
     "input": [
      "def lnprob(theta):\n",
      "    return lnprior(theta)+lnlike(theta)"
     ],
     "language": "python",
     "metadata": {},
     "outputs": [],
     "prompt_number": 124
    },
    {
     "cell_type": "markdown",
     "metadata": {},
     "source": [
      "Sample with emcee:"
     ]
    },
    {
     "cell_type": "code",
     "collapsed": false,
     "input": [
      "import emcee\n",
      "import triangle"
     ],
     "language": "python",
     "metadata": {},
     "outputs": [],
     "prompt_number": 125
    },
    {
     "cell_type": "code",
     "collapsed": false,
     "input": [
      "nwalkers, ndim = 32, len(theta_true)\n",
      "p0 = [theta_true+1e-4*np.random.rand(ndim) for i in range(nwalkers)]\n",
      "args = (x, y, yerr)\n",
      "sampler = emcee.EnsembleSampler(nwalkers, ndim, lnprob)\n",
      "p0, lp, state = sampler.run_mcmc(p0, 300)\n",
      "flat = sampler.chain[:, 50:, :].reshape((-1, ndim))\n",
      "mcmc_result = map(lambda v: (v[1], v[2]-v[1], v[1]-v[0]), zip(*np.percentile(flat, [16, 50, 84], axis=0)))\n",
      "print 'result = ', np.array(mcmc_result)[:, 0]"
     ],
     "language": "python",
     "metadata": {},
     "outputs": [
      {
       "output_type": "stream",
       "stream": "stdout",
       "text": [
        "result =  [  0.50897536  10.02256665]\n"
       ]
      }
     ],
     "prompt_number": 126
    }
   ],
   "metadata": {}
  }
 ]
}